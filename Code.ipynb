{
 "cells": [
  {
   "cell_type": "code",
   "execution_count": null,
   "id": "309799712c9b15bd",
   "metadata": {
    "ExecuteTime": {
     "end_time": "2025-03-18T17:56:32.675549Z",
     "start_time": "2025-03-18T17:56:31.757941Z"
    }
   },
   "outputs": [],
   "source": [
    "import cv2\n",
    "import numpy as np\n",
    "import matplotlib.pyplot as plt\n",
    "def preprocess_map(image_path, output_path):\n",
    "    image = cv2.imread(image_path)\n",
    "    hsv = cv2.cvtColor(image, cv2.COLOR_BGR2HSV)\n",
    "    lower_green, upper_green = np.array([35, 50, 50]), np.array([90, 255, 255])\n",
    "    mask = cv2.inRange(hsv, lower_green, upper_green)\n",
    "    image[mask > 0] = [255, 255, 255]\n",
    "    cv2.imwrite(output_path, image)\n",
    "preprocess_map(\"aces_relations.png\", \"processed_map.png\")\n",
    "map_image = cv2.imread(\"processed_map.png\", cv2.IMREAD_GRAYSCALE)\n",
    "_, binary_map = cv2.threshold(map_image, 200, 255, cv2.THRESH_BINARY)\n",
    "plt.imshow(binary_map, cmap=\"gray\")\n",
    "plt.title(\"Binary Map\")\n",
    "plt.show()"
   ]
  },
  {
   "cell_type": "code",
   "execution_count": null,
   "id": "ac3e308251455e44",
   "metadata": {
    "ExecuteTime": {
     "end_time": "2025-03-18T17:56:32.938341Z",
     "start_time": "2025-03-18T17:56:32.750768Z"
    }
   },
   "outputs": [],
   "source": [
    "def precompute_likelihood_fields(map_image):\n",
    "    _, binary_map = cv2.threshold(map_image, 200, 255, cv2.THRESH_BINARY)\n",
    "    binary_map = (binary_map == 0).astype(np.uint8)\n",
    "    distance = cv2.distanceTransform(binary_map, cv2.DIST_L2, 5)\n",
    "    max_dist = np.max(distance)\n",
    "    likelihood_fields = np.exp(-distance / (max_dist * 0.2 + 1e-6))\n",
    "    plt.imshow(likelihood_fields, cmap=\"hot\")\n",
    "    plt.colorbar()\n",
    "    plt.title(\"Likelihood Field Heatmap\")\n",
    "    plt.show()\n",
    "    return likelihood_fields\n",
    "likelihood_fields = precompute_likelihood_fields(map_image)"
   ]
  },
  {
   "cell_type": "code",
   "execution_count": null,
   "id": "initial_id",
   "metadata": {
    "ExecuteTime": {
     "end_time": "2025-03-18T17:56:33.441870Z",
     "start_time": "2025-03-18T17:56:33.140512Z"
    },
    "collapsed": true
   },
   "outputs": [],
   "source": [
    "def parse_aces_clf(file_path):\n",
    "    odom_readings = []\n",
    "    flaser_readings = []\n",
    "    with open(file_path, \"r\") as f:\n",
    "        for line in f:\n",
    "            tokens = line.strip().split()\n",
    "            if not tokens:\n",
    "                continue\n",
    "            elif tokens[0] == \"FLASER\":\n",
    "                num_readings = int(tokens[1])\n",
    "                scan_values = list(map(float, tokens[2:num_readings+2]))\n",
    "                odom_x, odom_y, odom_theta = map(float, tokens[num_readings+5:num_readings+8])\n",
    "                odom_readings.append({\"x\": odom_x, \"y\": odom_y, \"theta\": odom_theta})\n",
    "                flaser_readings.append({\"scan\": scan_values, \"x\": odom_x, \"y\": odom_y, \"theta\": odom_theta})\n",
    "    return odom_readings, flaser_readings\n",
    "odom_data, flaser_data = parse_aces_clf(\"aces.clf\")"
   ]
  },
  {
   "cell_type": "code",
   "execution_count": null,
   "id": "a8c8853f8d4fe5fc",
   "metadata": {
    "ExecuteTime": {
     "end_time": "2025-03-18T17:56:33.496353Z",
     "start_time": "2025-03-18T17:56:33.453619Z"
    }
   },
   "outputs": [],
   "source": [
    "odom_data"
   ]
  },
  {
   "cell_type": "code",
   "execution_count": null,
   "id": "af908afb6b27d624",
   "metadata": {
    "ExecuteTime": {
     "end_time": "2025-03-18T17:56:33.543303Z",
     "start_time": "2025-03-18T17:56:33.537953Z"
    }
   },
   "outputs": [],
   "source": [
    "def predict_pose(odom_prev, odom_curr):\n",
    "    dx = odom_curr[\"x\"] - odom_prev[\"x\"]\n",
    "    dy = odom_curr[\"y\"] - odom_prev[\"y\"]\n",
    "    dtheta = odom_curr[\"theta\"] - odom_prev[\"theta\"]\n",
    "    x_pred = odom_prev[\"x\"] + dx\n",
    "    y_pred = odom_prev[\"y\"] + dy\n",
    "    theta_pred = odom_prev[\"theta\"] + dtheta\n",
    "    return {\"x\": x_pred, \"y\": y_pred, \"theta\": theta_pred}"
   ]
  },
  {
   "cell_type": "code",
   "execution_count": null,
   "id": "42cecdf1c4129d3c",
   "metadata": {
    "ExecuteTime": {
     "end_time": "2025-03-18T17:56:33.576637Z",
     "start_time": "2025-03-18T17:56:33.570657Z"
    }
   },
   "outputs": [],
   "source": [
    "def lidar_to_cartesian(scan, x, y, theta, scale=0.1, origin=(316, 139)):\n",
    "    points = []\n",
    "    for i, d in enumerate(scan):\n",
    "        angle = theta + (i * np.pi / len(scan)) - np.pi / 2\n",
    "        x_world = x + d * np.cos(angle)\n",
    "        y_world = y + d * np.sin(angle)\n",
    "        x_pixel = int(origin[0] + x_world * scale)\n",
    "        y_pixel = int(origin[1] - y_world * scale)\n",
    "        points.append((x_pixel, y_pixel))\n",
    "    return points"
   ]
  },
  {
   "cell_type": "code",
   "execution_count": null,
   "id": "b6b4b44e49a43dd0",
   "metadata": {
    "ExecuteTime": {
     "end_time": "2025-03-18T17:56:33.617131Z",
     "start_time": "2025-03-18T17:56:33.611539Z"
    }
   },
   "outputs": [],
   "source": [
    "def correlate_scan(likelihood_fields, scan_points):\n",
    "    scan_points = np.array(scan_points, dtype=int)  # Convert all points to integers\n",
    "    valid_mask = (0 <= scan_points[:, 0]) & (scan_points[:, 0] < likelihood_fields.shape[1]) & \\\n",
    "                 (0 <= scan_points[:, 1]) & (scan_points[:, 1] < likelihood_fields.shape[0])\n",
    "    valid_points = scan_points[valid_mask]\n",
    "    likelihood_values = likelihood_fields[valid_points[:, 1].astype(int), valid_points[:, 0].astype(int)]\n",
    "    return np.sum(np.exp(-likelihood_values ** 2 / (2 * (0.1 ** 2))))"
   ]
  },
  {
   "cell_type": "code",
   "execution_count": null,
   "id": "fabf9a403dbc7cc7",
   "metadata": {
    "ExecuteTime": {
     "end_time": "2025-03-18T17:56:33.642089Z",
     "start_time": "2025-03-18T17:56:33.637286Z"
    }
   },
   "outputs": [],
   "source": [
    "def fuse_odometry_csm(odom_pred, csm_corrected, alpha=0.8):\n",
    "    x_fused = alpha * odom_pred[\"x\"] + (1 - alpha) * csm_corrected[\"x\"]\n",
    "    y_fused = alpha * odom_pred[\"y\"] + (1 - alpha) * csm_corrected[\"y\"]\n",
    "    theta_fused = alpha * odom_pred[\"theta\"] + (1 - alpha) * csm_corrected[\"theta\"]\n",
    "    return {\"x\": x_fused, \"y\": y_fused, \"theta\": theta_fused}"
   ]
  },
  {
   "cell_type": "code",
   "execution_count": null,
   "id": "87b768d81254f4c8",
   "metadata": {
    "ExecuteTime": {
     "start_time": "2025-03-18T17:56:33.652239Z"
    },
    "jupyter": {
     "is_executing": true
    }
   },
   "outputs": [],
   "source": [
    "def global_localization(odom_data, flaser_data, likelihood_fields):\n",
    "    best_positions = []\n",
    "    for i in range(1, len(flaser_data)):\n",
    "        scan_data = flaser_data[i]\n",
    "        odom_prev = odom_data[i - 1]\n",
    "        odom_curr = odom_data[i]\n",
    "        height, width = likelihood_fields.shape[:2]\n",
    "        odom_pred = predict_pose(odom_prev, odom_curr)\n",
    "        scan_points = lidar_to_cartesian(scan_data[\"scan\"], odom_pred[\"x\"], odom_pred[\"y\"], odom_pred[\"theta\"])\n",
    "        for i, (x, y) in enumerate(scan_points):\n",
    "            if not (0 <= x < likelihood_fields.shape[1] and 0 <= y < likelihood_fields.shape[0]):\n",
    "                print(f\" Out of bounds: Point {i}: ({x}, {y})\")\n",
    "        best_score = correlate_scan(likelihood_fields, scan_points)\n",
    "        best_pose = odom_pred\n",
    "        for dx in np.linspace(-2, 2, 7):\n",
    "            for dy in np.linspace(-2, 2, 7):\n",
    "                for dtheta in np.linspace(-np.pi/6, np.pi/6, 7):\n",
    "                    candidate_pose = {\n",
    "                        \"x\": odom_pred[\"x\"] + dx,\n",
    "                        \"y\": odom_pred[\"y\"] + dy,\n",
    "                        \"theta\": odom_pred[\"theta\"] + dtheta\n",
    "                    }\n",
    "                    perturbed_points = lidar_to_cartesian(scan_data[\"scan\"], candidate_pose[\"x\"], candidate_pose[\"y\"], candidate_pose[\"theta\"])\n",
    "                    score = correlate_scan(likelihood_fields, perturbed_points)\n",
    "                    if score > best_score:\n",
    "                        best_score = score\n",
    "                        best_pose = candidate_pose\n",
    "        final_pose = fuse_odometry_csm(odom_pred, best_pose)\n",
    "        best_positions.append(final_pose)\n",
    "    return best_positions\n",
    "best_positions = global_localization(odom_data, flaser_data, likelihood_fields)"
   ]
  },
  {
   "cell_type": "code",
   "execution_count": null,
   "id": "cb89aa12ce17fa99",
   "metadata": {},
   "outputs": [],
   "source": [
    "for i, pos in enumerate(best_positions[:10]):\n",
    "    print(f\"Step {i}: x={pos['x']:.2f}, y={pos['y']:.2f}, theta={pos['theta']:.4f}\")"
   ]
  },
  {
   "cell_type": "code",
   "execution_count": null,
   "id": "52f81f6793c4a60a",
   "metadata": {},
   "outputs": [],
   "source": [
    "def parse_aces_relations(file_path):\n",
    "    relations = []\n",
    "    with open(file_path, \"r\") as f:\n",
    "        for line in f:\n",
    "            tokens = line.strip().split()\n",
    "            if len(tokens) == 8:\n",
    "                relations.append({\"x\": float(tokens[2]), \"y\": float(tokens[3]), \"yaw\": float(tokens[7])})\n",
    "    return relations\n",
    "relations_data = parse_aces_relations(\"aces.relations\")"
   ]
  },
  {
   "cell_type": "code",
   "execution_count": null,
   "id": "2187fc60f925e421",
   "metadata": {},
   "outputs": [],
   "source": [
    "def estimate_noise_params(relations_data):\n",
    "    return {k: (np.mean([r[k] for r in relations_data]), np.std([r[k] for r in relations_data])) for k in [\"x\", \"y\", \"yaw\"]}\n",
    "noise_params = estimate_noise_params(relations_data)\n",
    "noise_params"
   ]
  },
  {
   "cell_type": "code",
   "execution_count": null,
   "id": "17674316f9722ffa",
   "metadata": {},
   "outputs": [],
   "source": [
    "def visualize_scan_on_map(scan_points, map_image):\n",
    "    map_copy = map_image.copy()\n",
    "    for px, py in scan_points:\n",
    "        if 0 <= px < map_copy.shape[1] and 0 <= py < map_copy.shape[0]:\n",
    "            map_copy[py, px] = 128\n",
    "    plt.imshow(map_copy, cmap=\"gray\")\n",
    "    plt.title(\"LiDAR Scan\")\n",
    "    plt.show()\n",
    "scan_points = lidar_to_cartesian(flaser_data[0][\"scan\"], flaser_data[0][\"x\"], flaser_data[0][\"y\"], flaser_data[0][\"theta\"])\n",
    "visualize_scan_on_map(scan_points, map_image)"
   ]
  }
 ],
 "metadata": {
  "kernelspec": {
   "display_name": "Python 3",
   "language": "python",
   "name": "python3"
  },
  "language_info": {
   "codemirror_mode": {
    "name": "ipython",
    "version": 2
   },
   "file_extension": ".py",
   "mimetype": "text/x-python",
   "name": "python",
   "nbconvert_exporter": "python",
   "pygments_lexer": "ipython2",
   "version": "2.7.6"
  }
 },
 "nbformat": 4,
 "nbformat_minor": 5
}
